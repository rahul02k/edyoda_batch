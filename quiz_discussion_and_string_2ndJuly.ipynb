{
 "cells": [
  {
   "cell_type": "code",
   "execution_count": 1,
   "id": "acb1e504",
   "metadata": {},
   "outputs": [
    {
     "data": {
      "text/plain": [
       "['W', 'e', 'l', 'c', 'o', 'm', 'e']"
      ]
     },
     "execution_count": 1,
     "metadata": {},
     "output_type": "execute_result"
    }
   ],
   "source": [
    "list(\"Welcome\")"
   ]
  },
  {
   "cell_type": "code",
   "execution_count": 2,
   "id": "44fcf652",
   "metadata": {},
   "outputs": [
    {
     "name": "stdout",
     "output_type": "stream",
     "text": [
      "Help on list object:\n",
      "\n",
      "class list(object)\n",
      " |  list(iterable=(), /)\n",
      " |  \n",
      " |  Built-in mutable sequence.\n",
      " |  \n",
      " |  If no argument is given, the constructor creates a new empty list.\n",
      " |  The argument must be an iterable if specified.\n",
      " |  \n",
      " |  Methods defined here:\n",
      " |  \n",
      " |  __add__(self, value, /)\n",
      " |      Return self+value.\n",
      " |  \n",
      " |  __contains__(self, key, /)\n",
      " |      Return key in self.\n",
      " |  \n",
      " |  __delitem__(self, key, /)\n",
      " |      Delete self[key].\n",
      " |  \n",
      " |  __eq__(self, value, /)\n",
      " |      Return self==value.\n",
      " |  \n",
      " |  __ge__(self, value, /)\n",
      " |      Return self>=value.\n",
      " |  \n",
      " |  __getattribute__(self, name, /)\n",
      " |      Return getattr(self, name).\n",
      " |  \n",
      " |  __getitem__(...)\n",
      " |      x.__getitem__(y) <==> x[y]\n",
      " |  \n",
      " |  __gt__(self, value, /)\n",
      " |      Return self>value.\n",
      " |  \n",
      " |  __iadd__(self, value, /)\n",
      " |      Implement self+=value.\n",
      " |  \n",
      " |  __imul__(self, value, /)\n",
      " |      Implement self*=value.\n",
      " |  \n",
      " |  __init__(self, /, *args, **kwargs)\n",
      " |      Initialize self.  See help(type(self)) for accurate signature.\n",
      " |  \n",
      " |  __iter__(self, /)\n",
      " |      Implement iter(self).\n",
      " |  \n",
      " |  __le__(self, value, /)\n",
      " |      Return self<=value.\n",
      " |  \n",
      " |  __len__(self, /)\n",
      " |      Return len(self).\n",
      " |  \n",
      " |  __lt__(self, value, /)\n",
      " |      Return self<value.\n",
      " |  \n",
      " |  __mul__(self, value, /)\n",
      " |      Return self*value.\n",
      " |  \n",
      " |  __ne__(self, value, /)\n",
      " |      Return self!=value.\n",
      " |  \n",
      " |  __repr__(self, /)\n",
      " |      Return repr(self).\n",
      " |  \n",
      " |  __reversed__(self, /)\n",
      " |      Return a reverse iterator over the list.\n",
      " |  \n",
      " |  __rmul__(self, value, /)\n",
      " |      Return value*self.\n",
      " |  \n",
      " |  __setitem__(self, key, value, /)\n",
      " |      Set self[key] to value.\n",
      " |  \n",
      " |  __sizeof__(self, /)\n",
      " |      Return the size of the list in memory, in bytes.\n",
      " |  \n",
      " |  append(self, object, /)\n",
      " |      Append object to the end of the list.\n",
      " |  \n",
      " |  clear(self, /)\n",
      " |      Remove all items from list.\n",
      " |  \n",
      " |  copy(self, /)\n",
      " |      Return a shallow copy of the list.\n",
      " |  \n",
      " |  count(self, value, /)\n",
      " |      Return number of occurrences of value.\n",
      " |  \n",
      " |  extend(self, iterable, /)\n",
      " |      Extend list by appending elements from the iterable.\n",
      " |  \n",
      " |  index(self, value, start=0, stop=9223372036854775807, /)\n",
      " |      Return first index of value.\n",
      " |      \n",
      " |      Raises ValueError if the value is not present.\n",
      " |  \n",
      " |  insert(self, index, object, /)\n",
      " |      Insert object before index.\n",
      " |  \n",
      " |  pop(self, index=-1, /)\n",
      " |      Remove and return item at index (default last).\n",
      " |      \n",
      " |      Raises IndexError if list is empty or index is out of range.\n",
      " |  \n",
      " |  remove(self, value, /)\n",
      " |      Remove first occurrence of value.\n",
      " |      \n",
      " |      Raises ValueError if the value is not present.\n",
      " |  \n",
      " |  reverse(self, /)\n",
      " |      Reverse *IN PLACE*.\n",
      " |  \n",
      " |  sort(self, /, *, key=None, reverse=False)\n",
      " |      Sort the list in ascending order and return None.\n",
      " |      \n",
      " |      The sort is in-place (i.e. the list itself is modified) and stable (i.e. the\n",
      " |      order of two equal elements is maintained).\n",
      " |      \n",
      " |      If a key function is given, apply it once to each list item and sort them,\n",
      " |      ascending or descending, according to their function values.\n",
      " |      \n",
      " |      The reverse flag can be set to sort in descending order.\n",
      " |  \n",
      " |  ----------------------------------------------------------------------\n",
      " |  Class methods defined here:\n",
      " |  \n",
      " |  __class_getitem__(...) from builtins.type\n",
      " |      See PEP 585\n",
      " |  \n",
      " |  ----------------------------------------------------------------------\n",
      " |  Static methods defined here:\n",
      " |  \n",
      " |  __new__(*args, **kwargs) from builtins.type\n",
      " |      Create and return a new object.  See help(type) for accurate signature.\n",
      " |  \n",
      " |  ----------------------------------------------------------------------\n",
      " |  Data and other attributes defined here:\n",
      " |  \n",
      " |  __hash__ = None\n",
      "\n"
     ]
    }
   ],
   "source": [
    "help([])"
   ]
  },
  {
   "cell_type": "code",
   "execution_count": 3,
   "id": "e1efcc0e",
   "metadata": {},
   "outputs": [
    {
     "name": "stdout",
     "output_type": "stream",
     "text": [
      "<class 'str'>\n"
     ]
    }
   ],
   "source": [
    "message = \"Welcome\"\n",
    "print(type(message))"
   ]
  },
  {
   "cell_type": "code",
   "execution_count": 4,
   "id": "62816064",
   "metadata": {},
   "outputs": [
    {
     "name": "stdout",
     "output_type": "stream",
     "text": [
      "['W', 'e', 'l', 'c', 'o', 'm', 'e']\n",
      "type of message_list =  <class 'list'>\n"
     ]
    }
   ],
   "source": [
    "message_list = list(message)\n",
    "print(message_list)\n",
    "print(\"type of message_list = \",type(message_list))"
   ]
  },
  {
   "cell_type": "markdown",
   "id": "d71e988d",
   "metadata": {},
   "source": [
    "## Type Conversion\n",
    "- changing of data type of variable from one to another is know type conversion\n",
    "- num=int(32.5)"
   ]
  },
  {
   "cell_type": "code",
   "execution_count": 13,
   "id": "f84b8b2a",
   "metadata": {},
   "outputs": [
    {
     "data": {
      "text/plain": [
       "float"
      ]
     },
     "execution_count": 13,
     "metadata": {},
     "output_type": "execute_result"
    }
   ],
   "source": [
    "type(32.5)"
   ]
  },
  {
   "cell_type": "code",
   "execution_count": 8,
   "id": "da8501b9",
   "metadata": {},
   "outputs": [
    {
     "name": "stdout",
     "output_type": "stream",
     "text": [
      "<class 'int'>\n"
     ]
    }
   ],
   "source": [
    "num = int(32.5)\n",
    "print(type(num))"
   ]
  },
  {
   "cell_type": "markdown",
   "id": "aad04e74",
   "metadata": {},
   "source": [
    "## implicit type conversion"
   ]
  },
  {
   "cell_type": "code",
   "execution_count": 10,
   "id": "5d5c8b4e",
   "metadata": {},
   "outputs": [
    {
     "data": {
      "text/plain": [
       "62.5"
      ]
     },
     "execution_count": 10,
     "metadata": {},
     "output_type": "execute_result"
    }
   ],
   "source": [
    "32.5+30  "
   ]
  },
  {
   "cell_type": "markdown",
   "id": "04541bb3",
   "metadata": {},
   "source": [
    "## explicit type conversion "
   ]
  },
  {
   "cell_type": "code",
   "execution_count": 12,
   "id": "8471358b",
   "metadata": {},
   "outputs": [
    {
     "data": {
      "text/plain": [
       "64"
      ]
     },
     "execution_count": 12,
     "metadata": {},
     "output_type": "execute_result"
    }
   ],
   "source": [
    "int('32')+32"
   ]
  },
  {
   "cell_type": "markdown",
   "id": "7eb293f9",
   "metadata": {},
   "source": [
    "## Strings"
   ]
  },
  {
   "cell_type": "markdown",
   "id": "28e2a24e",
   "metadata": {},
   "source": [
    "#### any combination of alphabets, number and special characters that are stored within quotation marks is known as string\n"
   ]
  },
  {
   "cell_type": "markdown",
   "id": "6dcc39df",
   "metadata": {},
   "source": [
    "## Properties of string data type\n",
    "\n",
    "- immutable data type"
   ]
  },
  {
   "cell_type": "code",
   "execution_count": 14,
   "id": "880ed4c9",
   "metadata": {},
   "outputs": [
    {
     "name": "stdout",
     "output_type": "stream",
     "text": [
      "<class 'str'>\n"
     ]
    }
   ],
   "source": [
    "example_1 = \"Ribin Pary\"\n",
    "print(type(example_1))"
   ]
  },
  {
   "cell_type": "code",
   "execution_count": 15,
   "id": "1d7ddeeb",
   "metadata": {},
   "outputs": [
    {
     "name": "stdout",
     "output_type": "stream",
     "text": [
      "<class 'str'>\n"
     ]
    }
   ],
   "source": [
    "example_2 = 'Ribin Pary got 21 marks in last quiz'\n",
    "print(type(example_2))"
   ]
  },
  {
   "cell_type": "code",
   "execution_count": 16,
   "id": "04ae2b4e",
   "metadata": {},
   "outputs": [
    {
     "name": "stdout",
     "output_type": "stream",
     "text": [
      "<class 'str'>\n"
     ]
    }
   ],
   "source": [
    "example_3 = \"21\"\n",
    "print(type(example_3))"
   ]
  },
  {
   "cell_type": "code",
   "execution_count": 17,
   "id": "316628f8",
   "metadata": {},
   "outputs": [],
   "source": [
    "example_4 = \"\"\"Ribin Pary got 21 marks in last quiz.\n",
    "He has been improving quite a lot in python.\n",
    "Its good to see the improvement\n",
    "\"\"\""
   ]
  },
  {
   "cell_type": "code",
   "execution_count": 18,
   "id": "d8c6288b",
   "metadata": {},
   "outputs": [
    {
     "name": "stdout",
     "output_type": "stream",
     "text": [
      "<class 'str'>\n"
     ]
    }
   ],
   "source": [
    "print(type(example_4))"
   ]
  },
  {
   "cell_type": "code",
   "execution_count": 19,
   "id": "c25d5c39",
   "metadata": {},
   "outputs": [
    {
     "name": "stdout",
     "output_type": "stream",
     "text": [
      "Ribin Pary got 21 marks in last quiz.\n",
      "He has been improving quite a lot in python.\n",
      "Its good to see the improvement\n",
      "\n"
     ]
    }
   ],
   "source": [
    "print(example_4)"
   ]
  },
  {
   "cell_type": "code",
   "execution_count": 20,
   "id": "0054140d",
   "metadata": {},
   "outputs": [],
   "source": [
    "example_5 = '''\n",
    "            Hi how are you?\n",
    "            I have been studying python since last week.\n",
    "            Its an interseting programming language\n",
    "            '''"
   ]
  },
  {
   "cell_type": "code",
   "execution_count": 21,
   "id": "f97b0507",
   "metadata": {},
   "outputs": [
    {
     "name": "stdout",
     "output_type": "stream",
     "text": [
      "<class 'str'>\n"
     ]
    }
   ],
   "source": [
    "print(type(example_5))"
   ]
  },
  {
   "cell_type": "code",
   "execution_count": 22,
   "id": "e502dcca",
   "metadata": {},
   "outputs": [
    {
     "name": "stdout",
     "output_type": "stream",
     "text": [
      "\n",
      "            Hi how are you?\n",
      "            I have been studying python since last week.\n",
      "            Its an interseting programming language\n",
      "            \n"
     ]
    }
   ],
   "source": [
    "print(example_5)"
   ]
  },
  {
   "cell_type": "code",
   "execution_count": 23,
   "id": "03544048",
   "metadata": {},
   "outputs": [
    {
     "ename": "SyntaxError",
     "evalue": "unterminated string literal (detected at line 1) (4154889450.py, line 1)",
     "output_type": "error",
     "traceback": [
      "\u001b[1;36m  Cell \u001b[1;32mIn[23], line 1\u001b[1;36m\u001b[0m\n\u001b[1;33m    example_6 = \"HI how are you\u001b[0m\n\u001b[1;37m                ^\u001b[0m\n\u001b[1;31mSyntaxError\u001b[0m\u001b[1;31m:\u001b[0m unterminated string literal (detected at line 1)\n"
     ]
    }
   ],
   "source": [
    "example_6 = \"HI how are you\n",
    "I am good\""
   ]
  },
  {
   "cell_type": "code",
   "execution_count": 24,
   "id": "185a334e",
   "metadata": {},
   "outputs": [],
   "source": [
    "name = \"CV Veerappan\""
   ]
  },
  {
   "cell_type": "code",
   "execution_count": 29,
   "id": "f8bb89fa",
   "metadata": {},
   "outputs": [
    {
     "ename": "TypeError",
     "evalue": "'str' object does not support item assignment",
     "output_type": "error",
     "traceback": [
      "\u001b[1;31m---------------------------------------------------------------------------\u001b[0m",
      "\u001b[1;31mTypeError\u001b[0m                                 Traceback (most recent call last)",
      "Cell \u001b[1;32mIn[29], line 1\u001b[0m\n\u001b[1;32m----> 1\u001b[0m name[\u001b[38;5;241m0\u001b[39m]\u001b[38;5;241m=\u001b[39m\u001b[38;5;124m'\u001b[39m\u001b[38;5;124mP\u001b[39m\u001b[38;5;124m'\u001b[39m\n",
      "\u001b[1;31mTypeError\u001b[0m: 'str' object does not support item assignment"
     ]
    }
   ],
   "source": [
    "name[0]='P'"
   ]
  },
  {
   "cell_type": "code",
   "execution_count": 27,
   "id": "1490bf9a",
   "metadata": {},
   "outputs": [
    {
     "name": "stdout",
     "output_type": "stream",
     "text": [
      "[10, 2, 3, 4]\n"
     ]
    }
   ],
   "source": [
    "num = [1,2,3,4]\n",
    "num[0] = 10\n",
    "print(num)"
   ]
  },
  {
   "cell_type": "code",
   "execution_count": 30,
   "id": "c6928275",
   "metadata": {},
   "outputs": [
    {
     "name": "stdout",
     "output_type": "stream",
     "text": [
      "Help on built-in function id in module builtins:\n",
      "\n",
      "id(obj, /)\n",
      "    Return the identity of an object.\n",
      "    \n",
      "    This is guaranteed to be unique among simultaneously existing objects.\n",
      "    (CPython uses the object's memory address.)\n",
      "\n"
     ]
    }
   ],
   "source": [
    "help(id)"
   ]
  },
  {
   "cell_type": "code",
   "execution_count": 31,
   "id": "ef6fac19",
   "metadata": {},
   "outputs": [
    {
     "data": {
      "text/plain": [
       "3028446477760"
      ]
     },
     "execution_count": 31,
     "metadata": {},
     "output_type": "execute_result"
    }
   ],
   "source": [
    "id(num)"
   ]
  },
  {
   "cell_type": "code",
   "execution_count": 32,
   "id": "a53be3f6",
   "metadata": {},
   "outputs": [
    {
     "name": "stdout",
     "output_type": "stream",
     "text": [
      "before change:  3028446536240\n",
      "after change:  3028428969584\n"
     ]
    }
   ],
   "source": [
    "name = \"shivam\"\n",
    "print(\"before change: \",id(name))\n",
    "name = \"sam\"\n",
    "print(\"after change: \",id(name))"
   ]
  },
  {
   "cell_type": "code",
   "execution_count": 33,
   "id": "79ef0f56",
   "metadata": {},
   "outputs": [
    {
     "data": {
      "text/plain": [
       "'sam'"
      ]
     },
     "execution_count": 33,
     "metadata": {},
     "output_type": "execute_result"
    }
   ],
   "source": [
    "name"
   ]
  },
  {
   "cell_type": "code",
   "execution_count": null,
   "id": "ef31f301",
   "metadata": {},
   "outputs": [],
   "source": [
    "\"name\""
   ]
  },
  {
   "cell_type": "code",
   "execution_count": 35,
   "id": "0f0bd3bb",
   "metadata": {},
   "outputs": [
    {
     "name": "stdout",
     "output_type": "stream",
     "text": [
      "3028319928848\n",
      "3028319929168\n"
     ]
    }
   ],
   "source": [
    "num1 = 10\n",
    "print(id(num1))\n",
    "num1 = 20\n",
    "print(id(num1))"
   ]
  },
  {
   "cell_type": "code",
   "execution_count": 39,
   "id": "c6a03a78",
   "metadata": {},
   "outputs": [
    {
     "name": "stdout",
     "output_type": "stream",
     "text": [
      "3028446572928\n",
      "[10, 2, 3, 4]\n",
      "3028446572928\n"
     ]
    }
   ],
   "source": [
    "num = [1,2,3,4]\n",
    "print(id(num))\n",
    "num[0] = 10\n",
    "print(num)\n",
    "print(id(num))"
   ]
  },
  {
   "cell_type": "code",
   "execution_count": 40,
   "id": "ad4e4fa6",
   "metadata": {},
   "outputs": [
    {
     "name": "stdout",
     "output_type": "stream",
     "text": [
      "before append id =  3028446572928\n",
      "after append id =  3028446572928\n"
     ]
    }
   ],
   "source": [
    "print(\"before append id = \",id(num))\n",
    "num.append(10)\n",
    "print(\"after append id = \",id(num))"
   ]
  },
  {
   "cell_type": "code",
   "execution_count": 41,
   "id": "85924961",
   "metadata": {},
   "outputs": [
    {
     "data": {
      "text/plain": [
       "[10, 2, 3, 4, 10]"
      ]
     },
     "execution_count": 41,
     "metadata": {},
     "output_type": "execute_result"
    }
   ],
   "source": [
    "num"
   ]
  },
  {
   "cell_type": "code",
   "execution_count": 42,
   "id": "28fe465d",
   "metadata": {},
   "outputs": [
    {
     "name": "stdout",
     "output_type": "stream",
     "text": [
      "memory address of num1 =  3028319928848\n",
      "memory address of num2 =  3028319928848\n"
     ]
    }
   ],
   "source": [
    "num1=10\n",
    "num2=10 \n",
    "print(\"memory address of num1 = \",id(num1))\n",
    "print(\"memory address of num2 = \",id(num2))"
   ]
  },
  {
   "cell_type": "markdown",
   "id": "e9f8ee11",
   "metadata": {},
   "source": [
    "## Certain methods on String"
   ]
  },
  {
   "cell_type": "code",
   "execution_count": 43,
   "id": "7ceede15",
   "metadata": {},
   "outputs": [],
   "source": [
    "name = \"Shubham Chatterjee\""
   ]
  },
  {
   "cell_type": "code",
   "execution_count": 45,
   "id": "565f1ba8",
   "metadata": {},
   "outputs": [
    {
     "data": {
      "text/plain": [
       "'Shubham'"
      ]
     },
     "execution_count": 45,
     "metadata": {},
     "output_type": "execute_result"
    }
   ],
   "source": [
    "name[0:7]"
   ]
  },
  {
   "cell_type": "code",
   "execution_count": 46,
   "id": "e95c49d5",
   "metadata": {},
   "outputs": [
    {
     "data": {
      "text/plain": [
       "'shubham chatterjee'"
      ]
     },
     "execution_count": 46,
     "metadata": {},
     "output_type": "execute_result"
    }
   ],
   "source": [
    "# lowercase our string\n",
    "name.lower()"
   ]
  },
  {
   "cell_type": "code",
   "execution_count": 49,
   "id": "55320e5c",
   "metadata": {},
   "outputs": [
    {
     "data": {
      "text/plain": [
       "'SHUBHAM CHATTERJEE'"
      ]
     },
     "execution_count": 49,
     "metadata": {},
     "output_type": "execute_result"
    }
   ],
   "source": [
    "# uppercase our string\n",
    "name.upper()"
   ]
  },
  {
   "cell_type": "code",
   "execution_count": 50,
   "id": "a32a5bfa",
   "metadata": {},
   "outputs": [
    {
     "data": {
      "text/plain": [
       "'Shubham Chatterjee'"
      ]
     },
     "execution_count": 50,
     "metadata": {},
     "output_type": "execute_result"
    }
   ],
   "source": [
    "name"
   ]
  },
  {
   "cell_type": "code",
   "execution_count": 48,
   "id": "91656ebf",
   "metadata": {},
   "outputs": [
    {
     "data": {
      "text/plain": [
       "'eejrettahC mahbuhS'"
      ]
     },
     "execution_count": 48,
     "metadata": {},
     "output_type": "execute_result"
    }
   ],
   "source": [
    "# reverse the string\n",
    "name[::-1]"
   ]
  },
  {
   "cell_type": "code",
   "execution_count": 52,
   "id": "2bbfe66b",
   "metadata": {},
   "outputs": [
    {
     "data": {
      "text/plain": [
       "['Shubham', 'Chatterjee']"
      ]
     },
     "execution_count": 52,
     "metadata": {},
     "output_type": "execute_result"
    }
   ],
   "source": [
    "name.split()"
   ]
  },
  {
   "cell_type": "code",
   "execution_count": 53,
   "id": "946c0c31",
   "metadata": {},
   "outputs": [
    {
     "data": {
      "text/plain": [
       "'Shubham Chatterjee'"
      ]
     },
     "execution_count": 53,
     "metadata": {},
     "output_type": "execute_result"
    }
   ],
   "source": [
    "name"
   ]
  },
  {
   "cell_type": "code",
   "execution_count": 55,
   "id": "ef8b61d7",
   "metadata": {},
   "outputs": [
    {
     "name": "stdout",
     "output_type": "stream",
     "text": [
      "['Hi', 'my', 'name', 'is', 'Shivam.', 'I', 'am', 'attending', 'Python', 'class', 'today']\n"
     ]
    }
   ],
   "source": [
    "sen1 = \"Hi my name is Shivam. I am attending Python class today\"\n",
    "print(sen1.split())"
   ]
  },
  {
   "cell_type": "code",
   "execution_count": 62,
   "id": "59a96ce0",
   "metadata": {},
   "outputs": [
    {
     "data": {
      "text/plain": [
       "['Hi', 'my', 'name', 'is', 'Shivam']"
      ]
     },
     "execution_count": 62,
     "metadata": {},
     "output_type": "execute_result"
    }
   ],
   "source": [
    "sen2 = \"Hi+my+name+is+Shivam\"\n",
    "sen2.split(\"+\")"
   ]
  },
  {
   "cell_type": "code",
   "execution_count": 61,
   "id": "3d71643d",
   "metadata": {},
   "outputs": [
    {
     "data": {
      "text/plain": [
       "['Hi,my,name,is,Shivam']"
      ]
     },
     "execution_count": 61,
     "metadata": {},
     "output_type": "execute_result"
    }
   ],
   "source": [
    "sen2.split()"
   ]
  },
  {
   "cell_type": "code",
   "execution_count": 60,
   "id": "4c54e7e6",
   "metadata": {},
   "outputs": [
    {
     "data": {
      "text/plain": [
       "['name', 'is', 'Shivam']"
      ]
     },
     "execution_count": 60,
     "metadata": {},
     "output_type": "execute_result"
    }
   ],
   "source": [
    "sen2[6:].split(',')"
   ]
  },
  {
   "cell_type": "code",
   "execution_count": null,
   "id": "d21d5415",
   "metadata": {},
   "outputs": [],
   "source": []
  }
 ],
 "metadata": {
  "kernelspec": {
   "display_name": "Python 3 (ipykernel)",
   "language": "python",
   "name": "python3"
  },
  "language_info": {
   "codemirror_mode": {
    "name": "ipython",
    "version": 3
   },
   "file_extension": ".py",
   "mimetype": "text/x-python",
   "name": "python",
   "nbconvert_exporter": "python",
   "pygments_lexer": "ipython3",
   "version": "3.10.9"
  }
 },
 "nbformat": 4,
 "nbformat_minor": 5
}
